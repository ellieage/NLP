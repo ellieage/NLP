{
 "cells": [
  {
   "cell_type": "code",
   "execution_count": 80,
   "metadata": {
    "collapsed": true
   },
   "outputs": [],
   "source": [
    "import glob\n",
    "import re"
   ]
  },
  {
   "cell_type": "code",
   "execution_count": 81,
   "metadata": {
    "collapsed": true
   },
   "outputs": [],
   "source": [
    "fname = glob.glob('/Users/elliegrano/codes/NLP/blog/data-collection/*.pkl')[0]"
   ]
  },
  {
   "cell_type": "code",
   "execution_count": 82,
   "metadata": {
    "collapsed": true
   },
   "outputs": [],
   "source": [
    "# Load the dictionary back from the pickle file.\n",
    "import pickle\n",
    "\n",
    "corpus = pickle.load( open( fname, \"rb\" ) )\n",
    "\n"
   ]
  },
  {
   "cell_type": "code",
   "execution_count": 83,
   "metadata": {
    "collapsed": false
   },
   "outputs": [
    {
     "data": {
      "text/plain": [
       "['EPA\\xe2\\x80\\x93R08\\xe2\\x80\\x93OAR\\xe2\\x80\\x932015\\xe2\\x80\\x930463']"
      ]
     },
     "execution_count": 83,
     "metadata": {},
     "output_type": "execute_result"
    }
   ],
   "source": [
    "\n",
    "docID=corpus.keys()\n",
    "docID"
   ]
  },
  {
   "cell_type": "code",
   "execution_count": 84,
   "metadata": {
    "collapsed": false
   },
   "outputs": [
    {
     "data": {
      "text/plain": [
       "[u'EPA-R08-OAR-2015-0463-0169',\n",
       " u'EPA-R08-OAR-2015-0463-0171',\n",
       " u'EPA-R08-OAR-2015-0463-0161',\n",
       " u'EPA-R08-OAR-2015-0463-0160',\n",
       " u'EPA-R08-OAR-2015-0463-0163',\n",
       " u'EPA-R08-OAR-2015-0463-0162',\n",
       " u'EPA-R08-OAR-2015-0463-0165',\n",
       " u'EPA-R08-OAR-2015-0463-0166',\n",
       " u'EPA-R08-OAR-2015-0463-0155',\n",
       " u'EPA-R08-OAR-2015-0463-0178',\n",
       " u'EPA-R08-OAR-2015-0463-0179',\n",
       " u'EPA-R08-OAR-2015-0463-0158',\n",
       " u'EPA-R08-OAR-2015-0463-0159',\n",
       " u'EPA-R08-OAR-2015-0463-0172',\n",
       " u'EPA-R08-OAR-2015-0463-0173',\n",
       " u'EPA-R08-OAR-2015-0463-0170',\n",
       " u'EPA-R08-OAR-2015-0463-0157',\n",
       " u'EPA-R08-OAR-2015-0463-0176',\n",
       " u'EPA-R08-OAR-2015-0463-0177',\n",
       " u'EPA-R08-OAR-2015-0463-0174',\n",
       " u'EPA-R08-OAR-2015-0463-0175',\n",
       " u'EPA-R08-OAR-2015-0463-0181',\n",
       " u'EPA-R08-OAR-2015-0463-0180']"
      ]
     },
     "execution_count": 84,
     "metadata": {},
     "output_type": "execute_result"
    }
   ],
   "source": [
    "\n",
    "corpus[docID[0]].keys()\n",
    "#corpus['EPA\\xe2\\x80\\x93R08\\xe2\\x80\\x93OAR\\xe2\\x80\\x932015\\xe2\\x80\\x930463'].keys()"
   ]
  },
  {
   "cell_type": "code",
   "execution_count": 85,
   "metadata": {
    "collapsed": false
   },
   "outputs": [
    {
     "data": {
      "text/plain": [
       "u\"See Attached  \\n\\n \\n\\n \\nMay 16th, 2016 \\n \\nShaun McGrath \\nRegional Administrator - Region 8 \\nEnvironmental Protection Agency \\n1595 Wynkoop St \\nDenver, CO 80202 \\n \\nDear Mr. McGrath, \\n \\nAmong Arizona\\u2019s many attributes, our state is perhaps most fortunate to claim within its \\nborders the crown jewel of our country\\u2019s national park system: the Grand Canyon National \\nPark. As Arizonans, our identity is so deeply tied to the Grand Canyon that we call our \\nstate the Grand Canyon State. Not only is the Grand Canyon a tremendous source of pride \\nand inspiration for the families and businesses who call Arizona home, it\\u2019s also a vital part \\nof Arizona\\u2019s economy. \\n \\nUnfortunately, this keystone of Arizona\\u2019s culture and economy is being threatened by \\ndangerous air pollution emanating from two exceptionally dirty coal-fired power plants in \\nnearby Utah. Emissions from Utah\\u2019s Hunter and Huntington coal fired power plants \\nshroud the views and foul the air at the Grand Canyon and the surrounding region, putting \\nthe health of Arizona\\u2019s communities and critically important outdoor-recreation economy \\nat significant risk. \\n \\nAccording to the National Park Service, the 4.3 million people who visited Arizona\\u2019s \\nfamous park in 2011 spent $467,257,000 and directly supported 7,361 Arizona jobs. \\nStatewide, outdoor recreation is a crucial part of Arizona\\u2019s economy, generating $10.6 \\nbillion in consumer spending, $3.3 billion in wages and revenues, and $787 million in state \\nand local tax revenues. \\n \\nWhen visitors come to any of our nation\\u2019s parks, they expect clean air and clear views, but \\nat the Grand Canyon and other parks and public lands in the vicinity of Utah\\u2019s Hunter and \\nHuntington coal-fired plants, that\\u2019s increasingly not the case. That is why we, as members \\nof the Arizona business community, are writing to ask the Environmental Protection \\nAgency to protect Arizona\\u2019s air and lands from Utah\\u2019s dangerous coal pollution. \\n \\n \\n\\n \\n\\n\\x0cWe call upon the EPA\\u2019s Region 8 office, which is charged with protecting the health and \\nenvironment of Utah and other western states, to implement strong and fair reductions in \\ncoal pollution by requiring modern, industry-standard pollution controls on Utah\\u2019s Hunter \\nand Huntington coal-fired plants. \\n \\nAs many of our colleagues in the Utah and Colorado outdoor-recreation communities have \\nalready done, we are asking for protections for our families and livelihoods. Emissions \\nfrom these two plants are a regional threat, known to degrade air quality in wilderness \\nareas across the West. In addition to Grand Canyon National Park, the EPA\\u2019s own \\nmonitoring has shown that haze-causing pollution from the Hunter and Huntington plants \\nthreaten some of the West\\u2019s finest public lands, including eight other national parks and \\nwilderness areas in Utah and Colorado. \\n \\nThis level of pollution is unacceptable and must be addressed. Requiring the owner of \\nthese two two plants, Rocky Mountain Power, to install modern pollution controls will \\nreduce these dangerous, haze-causing emissions and protect the health of Arizona\\u2019s \\ncommunities and economy. \\n \\nCitizens of Arizona, Utah, and Colorado deserve the same protections from coal pollution \\nthat many other states enjoy. It's time for the Environmental Protection Agency to protect \\nWestern air and lands by guaranteeing strong and fair protection from Utah\\u2019s coal \\npollution. In doing so, EPA can ensure the sanctity of the Grand Canyon and other \\nmajestic places across the West, and support Arizona\\u2019s outdoor-recreation industry and the \\nlocal businesses that rely on its vitality. \\n \\nThirteen years before President Woodrow Wilson signed the Grand Canyon National Park \\nAct in 1919, President Theodore Roosevelt said these words: \\n \\n\\u201cLet this great wonder of nature remain as it now is. Do nothing to mar its grandeur, \\nsublimity and loveliness. You cannot improve on it. But what you can do is to keep it \\nfor your children, your children\\u2019s children, and all who come after you, as the one \\n\\ngreat sight which every American should see.\\u201d \\n\\n \\nWe now honor Roosevelt\\u2019s legacy and vision in calling for these necessary protections for \\nour businesses, communities, and way of life. \\n \\nThank you for your time and consideration. \\n \\nCo-signed, \\n \\n \\n \\n\\n \\n\\n\\x0c \\n \\nProtect Our Winters \\n4 Corner Film Logistics \\nAnnette McGivney, freelance writer \\nAntigua Archaeology, LLC \\nApothicare \\nArizona Raft Adventures \\nArtisan Metal Works LLC \\nAspen Sports \\nBeka Business Media \\nBlack Hawk Oil \\nBriar Patch Inn \\nCanyon Outfitters, Inc \\nCanyon REO \\nCanyoneers \\nChapel Rock Camp \\nCustom Creations \\nDragon Creek Publishing \\nEducational Expeditions \\nFlagstaff Brewing Co. \\nFlagstaff Native Plant and Seed \\nFour Season Guides \\nGregg Payne Art & Design \\nHorsin' Around Adventures \\nKahtoola \\nLantern Light Inn \\n \\n \\n \\n\\n \\n \\nLaura Chamberlin, Professional Chef \\nLight Body Fitness \\nLocal Juicery \\nMary Williams Design \\nMcGaughs Smoke & Bottle \\nMoenkopi Riverworks \\nMountain Sports Flagstaff \\nNatural Channel Design, Inc. \\nNetwork Search Associates, Inc \\nNoah Stalvey Allstate Agency \\nOver The Edge Sports \\nPinnacle Auto Service \\nPrescott College \\nPuma Press, LLC \\nRain Maker Fabrication \\nRinzai's Market \\nRivers and Oceans \\nSeasoned Kitchen \\nSelf Propelled Tours Sedona \\nSerenity Development \\nSupai Adventure Gear, LLC \\nSustainability Education Department, \\nPrescott College \\nThe Hike Shack \\nThe Wildland Trekking Company \\nUniversity of Arizona Campus Recreation \\nWhale Foundation\\n\\n\\x0c Fallon, Gail\\n\\nFrom:\\nSent:\\nTo:\\nCc:\\nSubject:\\nAttachments:\\n\\nMorales, Monica\\nTuesday, May 17, 2016 8:48 AM\\nDobrahner, Jaslyn\\nDresser, Chris; Fallon, Gail; Laumann, Sara\\nFW: Arizona Business Letter\\nArizona Business Utah Haze Letter FINAL.pdf; ATT00001.htm; logo mail.png; ATT00002.htm\\n\\nJaslyn \\u2013 Please take the lead for a response. This will be coming to us as a control. Thanks.  \\n \\nMonica S. Morales \\nActing Director, Air Program (8P-AR) \\nU.S. EPA Region 8 \\n1595 Wynkoop Street \\nDenver, Colorado 80202-1129 \\nPhone: (303) 312-6936 \\nmorales.monica@epa.gov \\n \\n\\nFrom: McGrath, Shaun  \\nSent: Monday, May 16, 2016 5:18 PM \\nTo: Lippincott, Jim <Lippincott.Jim@epa.gov> \\nCc: Morales, Monica <Morales.Monica@epa.gov> \\nSubject: FW: Arizona Business Letter \\n \\nJim, \\nLog in correspondence with response, as appropriate, from OPRA. \\n \\n\\nFrom: Chris Steinkamp [mailto:chris@protectourwinters.org]  \\nSent: Monday, May 16, 2016 4:55 PM \\nTo: McGrath, Shaun <McGrath.Shaun@epa.gov> \\nSubject: Arizona Business Letter \\n \\n\\nDear Mr. McGrath, \\n\\nOn behalf of over fifty businesses in Arizona, attached is a letter urging you to protect clean air and public lands \\nin the West by guaranteeing strong and equal protection from coal pollution. The first step would be to require \\npollution controls on Rocky Mountain Power\\u2019s Hunter and Huntington coal-fired power plants. \\n\\nThis is an incredibly important issue to all of us, and you have the strong support of Protect Our Winters and \\nArizona's $10.6 billion outdoor-recreation community.   \\n\\nSincerely, \\n\\nChris Steinkamp \\n\\n \\n\\n1\\n\\n\\x0c \""
      ]
     },
     "execution_count": 85,
     "metadata": {},
     "output_type": "execute_result"
    }
   ],
   "source": [
    "#corpus[docID[0]]['EPA-R08-OAR-2015-0463-0169']\n",
    "#corpus[docID[0]][corpus[docID[0]].keys()[0]]\n",
    "print(corpus[docID[0]][corpus[docID[0]].keys()[22]])"
   ]
  },
  {
   "cell_type": "code",
   "execution_count": 86,
   "metadata": {
    "collapsed": false
   },
   "outputs": [
    {
     "data": {
      "text/plain": [
       "23"
      ]
     },
     "execution_count": 86,
     "metadata": {},
     "output_type": "execute_result"
    }
   ],
   "source": [
    "len(corpus[docID[0]])"
   ]
  },
  {
   "cell_type": "code",
   "execution_count": 87,
   "metadata": {
    "collapsed": false
   },
   "outputs": [
    {
     "data": {
      "text/plain": [
       "[u'EPA-R08-OAR-2015-0463-0169',\n",
       " u'EPA-R08-OAR-2015-0463-0171',\n",
       " u'EPA-R08-OAR-2015-0463-0161',\n",
       " u'EPA-R08-OAR-2015-0463-0160',\n",
       " u'EPA-R08-OAR-2015-0463-0163',\n",
       " u'EPA-R08-OAR-2015-0463-0162',\n",
       " u'EPA-R08-OAR-2015-0463-0165',\n",
       " u'EPA-R08-OAR-2015-0463-0166',\n",
       " u'EPA-R08-OAR-2015-0463-0155',\n",
       " u'EPA-R08-OAR-2015-0463-0178',\n",
       " u'EPA-R08-OAR-2015-0463-0179',\n",
       " u'EPA-R08-OAR-2015-0463-0158',\n",
       " u'EPA-R08-OAR-2015-0463-0159',\n",
       " u'EPA-R08-OAR-2015-0463-0172',\n",
       " u'EPA-R08-OAR-2015-0463-0173',\n",
       " u'EPA-R08-OAR-2015-0463-0170',\n",
       " u'EPA-R08-OAR-2015-0463-0157',\n",
       " u'EPA-R08-OAR-2015-0463-0176',\n",
       " u'EPA-R08-OAR-2015-0463-0177',\n",
       " u'EPA-R08-OAR-2015-0463-0174',\n",
       " u'EPA-R08-OAR-2015-0463-0175',\n",
       " u'EPA-R08-OAR-2015-0463-0181',\n",
       " u'EPA-R08-OAR-2015-0463-0180']"
      ]
     },
     "execution_count": 87,
     "metadata": {},
     "output_type": "execute_result"
    }
   ],
   "source": [
    "clean_corpus = corpus\n",
    "clean_corpus[docID[0]].keys()"
   ]
  },
  {
   "cell_type": "code",
   "execution_count": 88,
   "metadata": {
    "collapsed": false
   },
   "outputs": [],
   "source": [
    "#print out each text one by one\n",
    "for p in range(0, len(clean_corpus[docID[0]])):\n",
    "        #print(p)\n",
    "        #print(corpus[docID[0]][corpus[docID[0]].keys()[p]])\n",
    "        clean_corpus[docID[0]][clean_corpus[docID[0]].keys()[p]] = re.sub('\\s', ' ', corpus[docID[0]][corpus[docID[0]].keys()[p]])"
   ]
  },
  {
   "cell_type": "code",
   "execution_count": 89,
   "metadata": {
    "collapsed": false
   },
   "outputs": [
    {
     "name": "stdout",
     "output_type": "stream",
     "text": [
      "Early comments to docket October 14, 2015   Shaun  McGrath  Region 8 Administrator  U.S.  Environmental Protection Agency  1595 Wynkoop St.  Denver, CO  80202-1129   l   SIERRA  CLUB   To  EPA Region  8 Administrator Shaun  McGrath :   Please accept these postcards as  a physical representation of the multitude of Utah voices calling for stronger  protections against coal  pollution in our world-renowned National Parks.  These comments were collected over  the past few months at public events and farmer's markets throughout Utah.  They represent hundreds of face(cid:173) to-face conversations where Utahns were appalled to learn that the current Regional  Haze State  Implementation Plan would not hold Hunter and Huntington power plants accountable for the thousands of  tons of nitrogen oxide pollution they belch into our air.   Many people were most surprised to discover that pollution controls that could reduce haze-causing nitrogen  oxide pollution by up to 90% were already required at over 200 coal-fired facilities in  states across the nation .  And yet, Utah with its wealth of natural beauty and  National Parks,  was denied these industry standard and  cost-effective technologies by our state regulatory board.   I know by now that you must be well familiar with the technical arguments submitted by the conservation  groups. They demonstrate clearly how installing SCR  on Hunter and Huntington would result in 3 to 4 times the  visibility improvements as compared to EPA's previous BART determinations in neighboring Western States.  They also show that the cost of installing those technologies, per ton of nitrogen oxide removed, is significantly  less than similar units across the West, and including PacifiCorp-owned units in Wyoming.   The average Utahn may not think in terms of deciviews and acronyms like SCR  and BART,  but we know the value  of protecting the land, air and water that sustains us.  And, we know that pollution from coal-fired power plants  like Hunter and  Huntington has a real and  lasting impact on our quality of life.  The 422 postcards included here  stand for all the Utahns that know it is more than just sound science to require SCR,  it is  also a moral imperative  to preserve our precious natural resources for future generations.  Please  protect Utah's National Parks from  coal-caused haze  pollution and reject Utah's inadequate regional  haze plan.   Respectfully,   Dan  Mayhew  Utah Sierra Club Chapter Chair  423 West 800 South, Suite A 103  Salt Lake City,  UT 84101   RECEIVED  OCT  1 6 2015   1')2_  ,  c  '     UNITED STATES ENVIRONMENTAL PROTECTION AGENCY   REGION 8   1595 Wynkoop Street   Denver,  CO  80202-1129   ~hone 800-227-8917  www.epa.gov/region08   Ref:  8P-AR   Mr. Dan Mayhew  Utah Sierra Club Chapter Chair  423  West 800 South, Suite A  103  Salt Lake City, Utah  84101   NOV  1 0 2015   Re: Controlled Correspondence R8-16-000-0886-0PRA, \"Stronger Protection against Coal Pollution\"   Dear Mr.  Mayhew:   Thank you for contacting the U.S. Environmental Protection Agency, Region 8, Regional Administrator,  Shaun McGrath, regarding Utah's state plan for regional haze. I understand your concerns and  appreciate your interests in clean air and clear vistas in Utah's national parks, as well as the interests of  the hundreds of other people represented by the postcards you enclosed with your October 14, 2015  letter.   ( .   Under the Clean Air Act, the Regional Haze Rule aims to reduce pollution that contributes to haze in our  nation's national parks and wilderness areas.  I hope you had the opportunity to share your concern for  installing emission controls on the Hunter and Huntington power plants and protecting the air quality  and views in  national parks during Utah's public comment period for their proposed regional haze plan.  There will  be another public comment period, which you can participate in and be heard when we  propose our action on Utah's regional haze plan in late 2015  or early 2016.   Again, thank you for your letter.  I appreciate your interest in protecting visibility in Utah's national  parks. If you have any questions, please contact Jaslyn Dobrahner in the EPA Region 8's Air Program at  (303) 312-6252 or dobrahner.jaslyn@epa.gov.   sf;J~  Carl Daly, Director~   Air Program   @Printed on Recycled Paper       Dear EPA  Region  8 Administrator Shaun  McGrath,   Protect clean air in  our national parks by rejecting Utah's regional  haze plan. Utah's current regional  haze plan allows Hunter and  Huntington coal  plants to continue to pollute, threatening  public health  and  our public parks. The plan does not require modern controls, which  could  reduce emissions from the plants by up to 75%.   Hunter and  Huntington coal  plants are situated within the same airshed  as  Utah's Big  Five  national  parks: Arches, Canyonlands, Capitol  Reef,  Bryce and  Zion . Protecting the air quality and views in  these iconic  parks is  integral to the success of Utah's tourism and recreation  economy, the second  largest industry in  the state. Reject Utah's  inadequate plan for regional  haze. Demand strong  pollution controls  to protect our health, national parks, and tourism industry.   PLACE  STAMP  HERE   Sincerely,   NAME (please print)   ADDRESS                              ZIP   EMAIL                           PHONE_1>_1 _     -_____  _             EPA Region 8 Administrator   Shaun  McGrath  cio Utah Sierra Club  423 W 800 S,  Suite A103  Salt Lake City,  UT 84101         By  providing your email address and  cell  phone number you  become a participant of the Sierra  Club's  online commu nity and  mobile community.  As  a participant, you'll stay in formed and  involved with the  latest environmental news,  information , and action alerts.     \n"
     ]
    }
   ],
   "source": [
    "print(clean_corpus[docID[0]][clean_corpus[docID[0]].keys()[15]])"
   ]
  },
  {
   "cell_type": "code",
   "execution_count": 90,
   "metadata": {
    "collapsed": true
   },
   "outputs": [],
   "source": [
    "#re.sub('\\s', ' ', one_comment)"
   ]
  },
  {
   "cell_type": "code",
   "execution_count": 93,
   "metadata": {
    "collapsed": false
   },
   "outputs": [],
   "source": [
    "import pickle\n",
    "pickle.dump( clean_corpus, open( str(fname) + '_clean.pkl', \"wb\" ) )"
   ]
  },
  {
   "cell_type": "code",
   "execution_count": null,
   "metadata": {
    "collapsed": true
   },
   "outputs": [],
   "source": []
  },
  {
   "cell_type": "code",
   "execution_count": 95,
   "metadata": {
    "collapsed": false
   },
   "outputs": [
    {
     "data": {
      "text/plain": [
       "['EPA\\xe2\\x80\\x93R08\\xe2\\x80\\x93OAR\\xe2\\x80\\x932015\\xe2\\x80\\x930463']"
      ]
     },
     "execution_count": 95,
     "metadata": {},
     "output_type": "execute_result"
    }
   ],
   "source": [
    "docID"
   ]
  },
  {
   "cell_type": "code",
   "execution_count": null,
   "metadata": {
    "collapsed": true
   },
   "outputs": [],
   "source": []
  }
 ],
 "metadata": {
  "kernelspec": {
   "display_name": "Python 2",
   "language": "python",
   "name": "python2"
  },
  "language_info": {
   "codemirror_mode": {
    "name": "ipython",
    "version": 2
   },
   "file_extension": ".py",
   "mimetype": "text/x-python",
   "name": "python",
   "nbconvert_exporter": "python",
   "pygments_lexer": "ipython2",
   "version": "2.7.12"
  }
 },
 "nbformat": 4,
 "nbformat_minor": 0
}
