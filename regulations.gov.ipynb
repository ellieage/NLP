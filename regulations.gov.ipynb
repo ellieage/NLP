{
 "cells": [
  {
   "cell_type": "markdown",
   "metadata": {},
   "source": [
    "## The regulations.gov API\n",
    "\n",
    "<p>In an effort to take citizen's opinions and perspectives into account, the federal government has launched [regulations.gov](https://www.regulations.gov/).  This site allows visitors to review documents related to open propositions and comment online.  The site acts as a repository for those comments, and it provides an admirable API for accessing this data.  Below are some notes on how to interact with the API effectively in Python.</p>"
   ]
  },
  {
   "cell_type": "markdown",
   "metadata": {},
   "source": [
    "## Getting set up\n",
    "\n",
    "* Sign up for an API account at [http://regulationsgov.github.io/developers/key/](http://regulationsgov.github.io/developers/key/)\n",
    "\n",
    "* This blog post goes over the minimum set of parameters that I found useful when consuming this API  For a full list of options, visit [http://regulationsgov.github.io/developers/console/](http://regulationsgov.github.io/developers/console/) and click \"Expanded operations\".\n",
    "\n",
    "\n",
    "### Searching for documents\n",
    "\n",
    "The first endpoint of interest in [https://api.data.gov/regulations/v3/documents\n",
    "](https://api.data.gov/regulations/v3/documents\n",
    ").  This endpoint can be used to search for documents in the system using the parameters in the table below.\n",
    "\n",
    "Add any number of querystring parameters to refine the query to your needs:\n",
    "\n",
    "| Attribute     | Description\n",
    "| ------------- |:-----------------------------\n",
    "| api_key       | Get this from the first link \n",
    "| s             | Keywords \n",
    "| rpp           | Results per page, max=1000\n",
    "| po            | Page offset, starting at 0\n",
    "| crd           | Creation date, accepts date as MM/DD/YY or range as MM/DD/YY-MM/DD/YY\n",
    "| cat           | Document category, for our interests, we wanted \"AEP\" for Agriculture, Environment, and Public Lands\n",
    "| dct           | Document type, for our interest, we wanted \"PS\" for Public Submission.  We won't use this in the first call we make, but later on in this post we will."
   ]
  },
  {
   "cell_type": "code",
<<<<<<< Updated upstream
   "execution_count": 87,
=======
   "execution_count": 34,
>>>>>>> Stashed changes
   "metadata": {
    "collapsed": true
   },
   "outputs": [],
   "source": [
    "import requests\n",
    "import pandas as pd\n",
    "import json\n",
    "import sys\n",
    "import pickle\n",
    "from cStringIO import StringIO"
   ]
  },
  {
   "cell_type": "code",
   "execution_count": 35,
   "metadata": {
    "collapsed": true
   },
   "outputs": [],
   "source": [
    "import sys\n",
    "import time\n",
    "from pdfminer.pdfinterp import PDFResourceManager, PDFPageInterpreter\n",
    "from pdfminer.pdfpage import PDFPage\n",
    "from pdfminer.converter import XMLConverter, HTMLConverter, TextConverter\n",
    "from pdfminer.layout import LAParams\n",
    "from cStringIO import StringIO\n",
    "from docx import Document"
   ]
  },
  {
   "cell_type": "code",
   "execution_count": 36,
   "metadata": {
    "collapsed": true
   },
   "outputs": [],
   "source": [
    "keywords = 'water'\n",
    "results_per_page = 1000\n",
    "page_offset = 0\n",
    "creation_range = '01/01/16-11/01/16'\n",
    "category = 'AEP'"
   ]
  },
  {
   "cell_type": "code",
   "execution_count": 37,
   "metadata": {
    "collapsed": false
   },
   "outputs": [],
   "source": [
    "f = open('regulations.gov.config', 'r') # Make your own config file and put your key in it\n",
    "api_key = f.read()\n",
    "api_key = api_key.strip()\n",
    "f.close()"
   ]
  },
  {
   "cell_type": "code",
   "execution_count": 38,
   "metadata": {
    "collapsed": false
   },
   "outputs": [],
   "source": [
    "uri_template = 'https://api.data.gov/regulations/v3/documents?api_key={}&s={}&rpp={}&po={}&crd={}&cat={}'\n",
    "uri = uri_template.format(api_key, keywords, results_per_page, page_offset, creation_range, category)\n",
    "r = requests.get(uri)"
   ]
  },
  {
   "cell_type": "code",
   "execution_count": 39,
   "metadata": {
    "collapsed": false
   },
   "outputs": [],
   "source": [
    "search_result = json.loads(r.content)"
   ]
  },
  {
   "cell_type": "code",
   "execution_count": 40,
   "metadata": {
    "collapsed": false
   },
   "outputs": [
    {
     "data": {
      "text/plain": [
       "[u'documents', u'totalNumRecords']"
      ]
     },
     "execution_count": 40,
     "metadata": {},
     "output_type": "execute_result"
    }
   ],
   "source": [
    "search_result.keys()"
   ]
  },
  {
   "cell_type": "code",
   "execution_count": 41,
   "metadata": {
    "collapsed": false
   },
   "outputs": [
    {
     "data": {
      "text/plain": [
       "685"
      ]
     },
     "execution_count": 41,
     "metadata": {},
     "output_type": "execute_result"
    }
   ],
   "source": [
    "len(search_result['documents'])"
   ]
  },
  {
   "cell_type": "code",
   "execution_count": 42,
   "metadata": {
    "collapsed": false
   },
   "outputs": [
    {
     "name": "stdout",
     "output_type": "stream",
     "text": [
      "Found 685 results.\n"
     ]
    }
   ],
   "source": [
    "#search_result = json.loads(r.content)\n",
    "print('Found ' + str(search_result['totalNumRecords']) + ' results.')"
   ]
  },
  {
   "cell_type": "markdown",
   "metadata": {},
   "source": [
    "Here's an example of the first result:"
   ]
  },
  {
   "cell_type": "code",
   "execution_count": 43,
   "metadata": {
    "collapsed": false
   },
   "outputs": [
    {
     "data": {
      "text/plain": [
       "{u'agencyAcronym': u'EPA',\n",
       " u'allowLateComment': False,\n",
       " u'attachmentCount': 0,\n",
       " u'commentDueDate': u'2016-12-28T23:59:59-05:00',\n",
       " u'commentStartDate': u'2016-09-29T00:00:00-04:00',\n",
       " u'docketId': u'EPA-HQ-OW-2016-0405',\n",
       " u'docketTitle': u'Federal Baseline Water Quality Standards for Indian Reservations',\n",
       " u'docketType': u'Rulemaking',\n",
       " u'documentId': u'EPA-HQ-OW-2016-0405-0001',\n",
       " u'documentStatus': u'Posted',\n",
       " u'documentType': u'Proposed Rule',\n",
       " u'frNumber': u'2016-23432',\n",
       " u'numberOfCommentsReceived': 38,\n",
       " u'openForComment': False,\n",
       " u'postedDate': u'2016-09-29T00:00:00-04:00',\n",
       " u'rin': u'2060-AF62',\n",
       " u'summary': u'Document Contents : ...OW-2016-0405; FRL-9953-19-OW] RIN 2040-AF62 Federal Baseline <endeca_term>Water</endeca_term> Quality Standards for Indian Reservations AGENCY: Environmental Protection Agency (EPA). ACTION: Advance...',\n",
       " u'title': u'Federal Baseline Water Quality Standards: Indian Reservations'}"
      ]
     },
     "execution_count": 43,
     "metadata": {},
     "output_type": "execute_result"
    }
   ],
   "source": [
    "search_result['documents'][0]"
   ]
  },
  {
   "cell_type": "code",
   "execution_count": 44,
   "metadata": {
    "collapsed": false
   },
   "outputs": [
    {
     "name": "stdout",
     "output_type": "stream",
     "text": [
      "{\n",
      "    \"agencyAcronym\": \"EPA\", \n",
      "    \"allowLateComment\": false, \n",
      "    \"attachmentCount\": 0, \n",
      "    \"commentDueDate\": \"2016-12-28T23:59:59-05:00\", \n",
      "    \"commentStartDate\": \"2016-09-29T00:00:00-04:00\", \n",
      "    \"docketId\": \"EPA-HQ-OW-2016-0405\", \n",
      "    \"docketTitle\": \"Federal Baseline Water Quality Standards for Indian Reservations\", \n",
      "    \"docketType\": \"Rulemaking\", \n",
      "    \"documentId\": \"EPA-HQ-OW-2016-0405-0001\", \n",
      "    \"documentStatus\": \"Posted\", \n",
      "    \"documentType\": \"Proposed Rule\", \n",
      "    \"frNumber\": \"2016-23432\", \n",
      "    \"numberOfCommentsReceived\": 38, \n",
      "    \"openForComment\": false, \n",
      "    \"postedDate\": \"2016-09-29T00:00:00-04:00\", \n",
      "    \"rin\": \"2060-AF62\", \n",
      "    \"summary\": \"Document Contents : ...OW-2016-0405; FRL-9953-19-OW] RIN 2040-AF62 Federal Baseline <endeca_term>Water</endeca_term> Quality Standards for Indian Reservations AGENCY: Environmental Protection Agency (EPA). ACTION: Advance...\", \n",
      "    \"title\": \"Federal Baseline Water Quality Standards: Indian Reservations\"\n",
      "}\n"
     ]
    }
   ],
   "source": [
    "doc = search_result['documents'][0]\n",
    "print(json.dumps(doc, indent=4, sort_keys=True))"
   ]
  },
  {
   "cell_type": "markdown",
   "metadata": {},
   "source": [
    "### Document lookup\n",
    "\n",
    "Once you've gotten a longer list, you are likely to want further details on one or more of the results.  The document lookup ID can help with that, requiring your api_key and a documentId which can be found in the results identified previously.\n",
    "\n",
    "https://api.data.gov/regulations/v3/document"
   ]
  },
  {
   "cell_type": "code",
   "execution_count": 45,
   "metadata": {
    "collapsed": false
   },
   "outputs": [
    {
     "data": {
      "text/plain": [
       "[u'openForComment',\n",
       " u'rin',\n",
       " u'allowLateComment',\n",
       " u'docketTitle',\n",
       " u'title',\n",
       " u'attachmentCount',\n",
       " u'numberOfCommentsReceived',\n",
       " u'docketType',\n",
       " u'frNumber',\n",
       " u'documentStatus',\n",
       " u'agencyAcronym',\n",
       " u'docketId',\n",
       " u'commentStartDate',\n",
       " u'summary',\n",
       " u'documentType',\n",
       " u'commentDueDate',\n",
       " u'documentId',\n",
       " u'postedDate']"
      ]
     },
     "execution_count": 45,
     "metadata": {},
     "output_type": "execute_result"
    }
   ],
   "source": [
    "search_result['documents'][0].keys()"
   ]
  },
  {
   "cell_type": "code",
   "execution_count": 46,
   "metadata": {
    "collapsed": false
   },
   "outputs": [
    {
     "data": {
      "text/plain": [
       "u'EPA-HQ-OW-2016-0405-0001'"
      ]
     },
     "execution_count": 46,
     "metadata": {},
     "output_type": "execute_result"
    }
   ],
   "source": [
    "search_result['documents'][0]['documentId']"
   ]
  },
  {
   "cell_type": "code",
   "execution_count": 47,
   "metadata": {
    "collapsed": false
   },
   "outputs": [
    {
     "name": "stdout",
     "output_type": "stream",
     "text": [
      "EPA-HQ-OW-2016-0405-0001\n"
     ]
    }
   ],
   "source": [
    "uri_template = 'https://api.data.gov/regulations/v3/document?api_key={}&documentId={}'\n",
    "documentId = doc['documentId']\n",
    "print(documentId)\n",
    "uri = uri_template.format(api_key, documentId)"
   ]
  },
  {
   "cell_type": "code",
   "execution_count": 48,
   "metadata": {
    "collapsed": true
   },
   "outputs": [],
   "source": [
    "r = requests.get(uri)"
   ]
  },
  {
   "cell_type": "code",
   "execution_count": 49,
   "metadata": {
    "collapsed": true
   },
   "outputs": [],
   "source": [
    "first_doc = json.loads(r.content)"
   ]
  },
  {
   "cell_type": "markdown",
   "metadata": {},
   "source": [
    "The document response has a lot more details, so rather than printing it out here, let's just see some of what's available."
   ]
  },
  {
   "cell_type": "code",
   "execution_count": 50,
   "metadata": {
    "collapsed": false
   },
   "outputs": [
    {
     "name": "stdout",
     "output_type": "stream",
     "text": [
      "[u'allowLateComment', u'docketTitle', u'pageCount', u'receivedDate', u'topics', u'rin', u'cfrPart', u'documentType', u'postedDate', u'numItemsRecieved', u'title', u'frCitation', u'docketType', u'documentId', u'startEndPage', u'abstract', u'status', u'federalRegisterNumber', u'agencyAcronym', u'docSubType', u'docketId', u'openForComment', u'agencyName', u'attachmentCount', u'commentDueDate', u'commentStartDate', u'fileFormats']\n"
     ]
    }
   ],
   "source": [
    "print(first_doc.keys())"
   ]
  },
  {
   "cell_type": "code",
   "execution_count": 51,
   "metadata": {
    "collapsed": false
   },
   "outputs": [
    {
     "data": {
      "text/plain": [
       "'{\"allowLateComment\":false,\"commentDueDate\":\"2016-12-28T23:59:59-05:00\",\"commentStartDate\":\"2016-09-29T00:00:00-04:00\",\"fileFormats\":[\"https://api.data.gov/regulations/v3/download?documentId=EPA-HQ-OW-2016-0405-0001&contentType=pdf\",\"https://api.data.gov/regulations/v3/download?documentId=EPA-HQ-OW-2016-0405-0001&contentType=html\"],\"openForComment\":false,\"postedDate\":\"2016-09-29T00:00:00-04:00\",\"receivedDate\":\"2016-09-29T00:00:00-04:00\",\"status\":\"Posted\",\"topics\":[\"Environmental Protection\",\"Indian Lands\",\"Intergovernmental Relations\",\"Reporting and Recordkeeping Requirements\",\"Water Pollution Control\"],\"abstract\":{\"label\":\"Abstract\",\"value\":\"Federal Register of September 29, 2016 (81 FR 66900)(FRL-9953-19-OW)\"},\"docketTitle\":{\"label\":\"Docket Title\",\"value\":\"Federal Baseline Water Quality Standards for Indian Reservations\"},\"pageCount\":{\"label\":\"Page Count\",\"value\":\"12\"},\"docketType\":{\"label\":\"Docket Type\",\"value\":\"Rulemaking\"},\"documentType\":{\"label\":\"Document Type\",\"value\":\"Proposed Rule\"},\"frCitation\":{\"label\":\"FR Citation\",\"value\":\"81\"},\"docSubType\":{\"label\":\"Document SubType\",\"value\":\"Advance Notice of Proposed Rulemaking (ANPRM)\"},\"federalRegisterNumber\":{\"label\":\"Federal Register Number\",\"value\":\"2016-23432\"},\"attachmentCount\":{\"label\":\"Attachment Count\",\"value\":\"0\"},\"agencyName\":{\"label\":\"Agency Name\",\"value\":\"Environmental Protection Agency\"},\"rin\":{\"label\":\"RIN\",\"value\":\"2060-AF62\"},\"title\":{\"label\":\"Document Title\",\"value\":\"Federal Baseline Water Quality Standards: Indian Reservations\"},\"startEndPage\":{\"label\":\"Start End Page\",\"value\":\"66900 - 66911\"},\"docketId\":{\"label\":\"Docket ID\",\"value\":\"EPA-HQ-OW-2016-0405\"},\"documentId\":{\"label\":\"Document ID\",\"value\":\"EPA-HQ-OW-2016-0405-0001\"},\"numItemsRecieved\":{\"label\":\"Number of Comments Received\",\"value\":\"38\"},\"cfrPart\":{\"label\":\"CFR Part\",\"value\":\"40 CFR Part 131\"},\"agencyAcronym\":{\"label\":\"Agency\",\"value\":\"EPA\"}}'"
      ]
     },
     "execution_count": 51,
     "metadata": {},
     "output_type": "execute_result"
    }
   ],
   "source": [
    "r.content"
   ]
  },
  {
   "cell_type": "markdown",
   "metadata": {},
   "source": [
    "### Dockets\n",
    "\n",
    "Dockets are \"organizational folders\" on the regulations.gov site.  I believe it has wider uses than my needs.  I believe Dockets can be helpful to find collections of documents that are related in some way.  For our interest, we want to retrieve all the comments for a given documentId of interest.  The Dockets endpoint helps us get some high level metadata about comments."
   ]
  },
  {
   "cell_type": "code",
   "execution_count": 52,
   "metadata": {
    "collapsed": true
   },
   "outputs": [],
   "source": [
    "doc_type = 'PS' # Public Submission\n",
    "parentDocumentId = 'EPA–R08–OAR–2015–0463'\n",
    "uri_template = 'https://api.data.gov/regulations/v3/docket?api_key={}&rpp={}&po={}&dct={}&docketId={}'\n",
    "uri = uri_template.format(api_key, results_per_page, page_offset, doc_type, parentDocumentId)"
   ]
  },
  {
   "cell_type": "code",
   "execution_count": 53,
   "metadata": {
    "collapsed": true
   },
   "outputs": [],
   "source": [
    "r = requests.get(uri)"
   ]
  },
  {
   "cell_type": "code",
   "execution_count": 54,
   "metadata": {
    "collapsed": false
   },
   "outputs": [
    {
     "name": "stdout",
     "output_type": "stream",
     "text": [
      "{\n",
      "    \"agency\": \"Environmental Protection Agency\", \n",
      "    \"agencyAcronym\": \"EPA\", \n",
      "    \"docketId\": \"EPA-R08-OAR-2015-0463\", \n",
      "    \"generic\": {\n",
      "        \"label\": \"Location\", \n",
      "        \"value\": \"R08-OAR\"\n",
      "    }, \n",
      "    \"numberOfComments\": 151, \n",
      "    \"rin\": \"Not Assigned\", \n",
      "    \"title\": \"Approval and Promulgation of Air Quality Implementation Plans; Utah; Revisions to Regional Haze State Implementation Plan\", \n",
      "    \"type\": {\n",
      "        \"label\": \"Type\", \n",
      "        \"value\": \"Rulemaking\"\n",
      "    }\n",
      "}\n"
     ]
    }
   ],
   "source": [
    "docket_data = json.loads(r.content)\n",
    "print(json.dumps(docket_data, indent=4, sort_keys=True))"
   ]
  },
  {
   "cell_type": "markdown",
   "metadata": {},
   "source": [
    "Great, so for this particular proposal, we find 151 comments.  Let's retrieve them with the search API.\n",
    "\n",
    "To retrieve them, simply use the documentId you are interested as your search keyword, and ask for just public submissions (comments)."
   ]
  },
  {
   "cell_type": "code",
   "execution_count": 60,
   "metadata": {
    "collapsed": true
   },
   "outputs": [],
   "source": [
    "uri_template = 'https://api.data.gov/regulations/v3/documents?api_key={}&s={}&rpp={}&po={}&dct={}'\n",
    "uri = uri_template.format(api_key, keywords, results_per_page, page_offset, doc_type)\n",
    "r = requests.get(uri)"
   ]
  },
  {
   "cell_type": "code",
   "execution_count": 61,
   "metadata": {
    "collapsed": false
   },
   "outputs": [
    {
     "name": "stdout",
     "output_type": "stream",
     "text": [
      "Found 1 results.\n"
     ]
    }
   ],
   "source": [
    "search_result = json.loads(r.content)\n",
    "print('Found ' + str(search_result['totalNumRecords']) + ' results.')"
   ]
  },
  {
   "cell_type": "code",
   "execution_count": 68,
   "metadata": {
    "collapsed": false
   },
   "outputs": [
    {
     "name": "stdout",
     "output_type": "stream",
     "text": [
      "Open for comment: False, Attachment count: 0\n"
     ]
    }
   ],
   "source": [
    "doc = search_result['documents'][0]\n",
    "print(doc)\n",
    "print('Open for comment: '+str(doc['openForComment'])+' Attachment count: ' + str(doc['attachmentCount']))"
   ]
  },
  {
   "cell_type": "code",
   "execution_count": null,
   "metadata": {
    "collapsed": true
   },
   "outputs": [],
   "source": []
  },
  {
   "cell_type": "code",
   "execution_count": null,
   "metadata": {
    "collapsed": true
   },
   "outputs": [],
   "source": []
  },
  {
   "cell_type": "code",
   "execution_count": null,
   "metadata": {
    "collapsed": true
   },
   "outputs": [],
   "source": []
  },
  {
   "cell_type": "code",
   "execution_count": 55,
   "metadata": {
    "collapsed": true
   },
   "outputs": [],
   "source": [
    "keywords = parentDocumentId\n",
    "results_per_page = 1000\n",
    "page_offset = 0\n",
    "doc_type = 'PS' # Public Submission"
   ]
  },
  {
   "cell_type": "code",
   "execution_count": 56,
   "metadata": {
    "collapsed": false
   },
   "outputs": [],
   "source": [
    "uri_template = 'https://api.data.gov/regulations/v3/documents?api_key={}&s={}&rpp={}&po={}&dct={}'\n",
    "uri = uri_template.format(api_key, keywords, results_per_page, page_offset, doc_type)\n",
    "r = requests.get(uri)"
   ]
  },
  {
   "cell_type": "code",
   "execution_count": 57,
   "metadata": {
    "collapsed": false
   },
   "outputs": [
    {
     "name": "stdout",
     "output_type": "stream",
     "text": [
      "Found 151 results.\n"
     ]
    }
   ],
   "source": [
    "search_result = json.loads(r.content)\n",
    "print('Found ' + str(search_result['totalNumRecords']) + ' results.')"
   ]
  },
  {
   "cell_type": "markdown",
   "metadata": {},
   "source": [
    "There's one last catch in us getting all the data we're interested in.  Some comments are totally in the response while some have attachments that may contain useful information for us.  Let's examine a few fields of the document below for which this is the case."
   ]
  },
  {
   "cell_type": "code",
   "execution_count": 58,
   "metadata": {
    "collapsed": false
   },
   "outputs": [
    {
     "name": "stdout",
     "output_type": "stream",
     "text": [
      "Attachment count: 3, Comment: See Attached\n"
     ]
    }
   ],
   "source": [
    "doc = search_result['documents'][0]\n",
    "print('Attachment count: ' + str(doc['attachmentCount']) + ', Comment: ' + doc['commentText'])"
   ]
  },
  {
   "cell_type": "markdown",
   "metadata": {},
   "source": [
    "Above we can see that there are two attachments to this document which are not a part of the API's response.  We can retrieve them in the manner shown below, which I believe is an undocumented feature of the API.  These attachments are (always?) PDF files or Microsoft Word files.  Let's first retrieve them, and then convert them to text.\n",
    "\n",
    "We'll need some helper functions to make that happen.  The first function below unpacks the \"Content-Disposition\" heading which should be sent back from the server describing the content.  We'll extract the filename and look at it's type so that we know if its a PDF or a Word doc."
   ]
  },
  {
   "cell_type": "code",
   "execution_count": 26,
   "metadata": {
    "collapsed": false
   },
   "outputs": [],
   "source": [
    "def get_file_type(content_disposition):\n",
    "    arr = content_disposition.split(';')\n",
    "    for elem in arr:\n",
    "        elem = elem.strip()\n",
    "        if elem.find('filename=')==0:\n",
    "            arr2 = elem.split('=')\n",
    "            fname = arr2[1].replace('\"', '').replace(\"'\", '')\n",
    "            i = fname.rfind('.')\n",
    "            return fname[i:].lower()\n",
    "    return 'unknown'"
   ]
  },
  {
   "cell_type": "code",
   "execution_count": 59,
   "metadata": {
    "collapsed": true
   },
   "outputs": [],
   "source": [
    "keywords = parentDocumentId\n",
    "results_per_page = 1000\n",
    "page_offset = 0\n",
    "doc_type = 'PR' # Public Submission"
   ]
  },
  {
   "cell_type": "markdown",
   "metadata": {},
   "source": [
    "The next two helper functions convert PDFs and Word docs into plain text for use in our analysis."
   ]
  },
  {
   "cell_type": "code",
   "execution_count": 27,
   "metadata": {
    "collapsed": false
   },
   "outputs": [],
   "source": [
    "def pdf_to_text(pdf_string):\n",
    "    f = StringIO(pdf_string)\n",
    "    rsrcmgr = PDFResourceManager()\n",
    "    retstr = StringIO()\n",
    "    codec = 'utf-8'\n",
    "    laparams = LAParams()\n",
    "    device = TextConverter(rsrcmgr, retstr, codec=codec, laparams=laparams)\n",
    "    interpreter = PDFPageInterpreter(rsrcmgr, device)\n",
    "    for page in PDFPage.get_pages(f):\n",
    "        interpreter.process_page(page)\n",
    "        data =  retstr.getvalue()\n",
    "    return data"
   ]
  },
  {
   "cell_type": "code",
   "execution_count": 28,
   "metadata": {
    "collapsed": true
   },
   "outputs": [],
   "source": [
    "def docx_to_text(docx_string):\n",
    "    f = StringIO(docx_string)\n",
    "    d = Document(f)\n",
    "    data = ''\n",
    "    for p in d.paragraphs:\n",
    "        data += p.text + ' '\n",
    "    return data"
   ]
  },
  {
   "cell_type": "code",
   "execution_count": 29,
   "metadata": {
    "collapsed": true
   },
   "outputs": [],
   "source": [
    "# Excel files?  Powerpoint (very few of these)"
   ]
  },
  {
   "cell_type": "markdown",
   "metadata": {},
   "source": [
    "Now that we have our helper functions in place, let's write one last function which gets all the attachments for any particular documentId of a comment and aggregates them all into one simple string."
   ]
  },
  {
   "cell_type": "code",
<<<<<<< Updated upstream
   "execution_count": 80,
=======
   "execution_count": 30,
>>>>>>> Stashed changes
   "metadata": {
    "collapsed": false
   },
   "outputs": [],
   "source": [
    "def get_attachment_comments(documentId, attachmentCount):\n",
    "    comment = ''\n",
    "    uri_template = 'https://www.regulations.gov/contentStreamer?documentId={}&attachmentNumber={}&disposition=attachment'\n",
    "    for attachment_num in range(1, attachmentCount + 1):\n",
    "        uri = uri_template.format(documentId, attachment_num)\n",
    "        r = requests.get(uri)\n",
    "        sc = r.status_code\n",
    "        if sc == 200:\n",
    "            content_disposition = r.headers['Content-Disposition']\n",
    "            file_type = get_file_type(content_disposition)\n",
    "            rcontent = r.content\n",
    "            try:\n",
    "                if type(rcontent) == 'str':\n",
    "                    rcontent = unicode(rcontent, 'utf-8')\n",
    "                if file_type == '.pdf':\n",
    "                    comment += pdf_to_text(rcontent) + ' '\n",
    "                elif file_type == '.docx':\n",
    "                    comment += docx_to_text(rcontent) + ' '\n",
    "                else:\n",
    "                    print(\"Can't handle this attachment: \" + content_disposition)\n",
    "            except UnicodeDecodeError:\n",
    "                print(\"Skipping \" + documentId + \" attachment #\" + str(attachment_num) + \" due to encoding issues\")\n",
    "        else:\n",
    "            print(\"Could not download \" + uri)\n",
    "    if type(comment) == unicode:\n",
    "        return comment\n",
    "    else:\n",
    "        return unicode(comment, 'utf-8')"
   ]
  },
  {
   "cell_type": "markdown",
   "metadata": {},
   "source": [
    "## Ready to pull data\n",
    "With a few helper funcitons in place, we're now ready to iterate over our search results and grab our corpus."
   ]
  },
  {
   "cell_type": "code",
<<<<<<< Updated upstream
   "execution_count": 81,
=======
   "execution_count": 31,
>>>>>>> Stashed changes
   "metadata": {
    "collapsed": false
   },
   "outputs": [
    {
     "name": "stdout",
     "output_type": "stream",
     "text": [
      "Going to retrieve values for EPA–R08–OAR–2015–0463\n"
     ]
    }
   ],
   "source": [
    "print('Going to retrieve values for ' + parentDocumentId)"
   ]
  },
  {
   "cell_type": "code",
   "execution_count": 32,
   "metadata": {
    "collapsed": true
   },
   "outputs": [],
   "source": [
    "corpus = {}"
   ]
  },
  {
   "cell_type": "code",
   "execution_count": 33,
   "metadata": {
    "collapsed": true
   },
   "outputs": [],
   "source": [
    "corpus[parentDocumentId] = {}\n",
    "keywords = parentDocumentId\n",
    "results_per_page = 1000\n",
    "page_offset = 0\n",
    "doc_type = 'PS' # Public Submission"
   ]
  },
  {
   "cell_type": "markdown",
   "metadata": {},
   "source": [
    "This next part will take some time."
   ]
  },
  {
   "cell_type": "code",
<<<<<<< Updated upstream
   "execution_count": 82,
=======
   "execution_count": 40,
>>>>>>> Stashed changes
   "metadata": {
    "collapsed": false
   },
   "outputs": [
    {
     "name": "stdout",
     "output_type": "stream",
     "text": [
<<<<<<< Updated upstream
      "https://api.data.gov/regulations/v3/documents?api_key=7Y0o4SFuUinwlekLUkvzMsnBFu9GBSGb4ofkhuzk&s=EPA–R08–OAR–2015–0463&rpp=1000&po=0&dct=PS\n",
      "Can't handle this attachment: attachment; filename=\"Ex_11_to_CO_comments_UDAQ_BART_Analysis.pptx\"\n",
      "Skipping EPA-R08-OAR-2015-0463-0167 attachment #31 due to encoding issues\n",
=======
      "https://api.data.gov/regulations/v3/documents?api_key=Q1Fm63k0xAZmLwCu7FdGhkgOL0m8J2yUbqnbjhMv&s=EPA–R08–OAR–2015–0463&rpp=1000&po=0&dct=PS\n",
      "Can't handle this attachment: attachment; filename=\"160314_RH_SIP_EPA-$08-215-0463.doc\"\n",
>>>>>>> Stashed changes
      "Can't handle this attachment: attachment; filename=\"Ex_2_to_TSD_of_Cons_Orgs_Comments_on_2016_EPA_Proposal_Utah_Haze.xlsx\"\n",
      "Can't handle this attachment: attachment; filename=\"Ex_5_to_TSD_of_Cons_Orgs_Comments_on_2016_EPA_Proposal_Utah_Haze.xlsx\"\n",
      "Can't handle this attachment: attachment; filename=\"Ex_26_to_TSD_of_Cons_Orgs_Comments_on_2016_EPA_Proposal_Utah_Haze.xlsx\"\n",
      "Can't handle this attachment: attachment; filename=\"Ex_27_to_TSD_of_Cons_Orgs_Comments_on_2016_EPA_Proposal_Utah_Haze.xlsx\"\n",
      "Can't handle this attachment: attachment; filename=\"Ex_28_to_TSD_of_Cons_Orgs_Comments_on_2016_EPA_Proposal_Utah_Haze.xlsx\"\n",
      "Can't handle this attachment: attachment; filename=\"Ex_29_to_TSD_of_Cons_Orgs_Comments_on_2016_EPA_Proposal_Utah_Haze.xlsx\"\n",
      "Can't handle this attachment: attachment; filename=\"Ex_31_to_TSD_of_Cons_Orgs_Comments_on_2016_EPA_Proposal_Utah_Haze.xlsx\"\n",
      "Can't handle this attachment: attachment; filename=\"Ex_42_to_TSD_of_Cons_Orgs_Comments_on_2016_EPA_Proposal_Utah_Haze.xlsx\"\n",
      "Can't handle this attachment: attachment; filename=\"Ex_47_to_TSD_of_Cons_Orgs_Comments_on_2016_EPA_Proposal_Utah_Haze.xlsx\"\n",
      "Can't handle this attachment: attachment; filename=\"Ex_46_to_TSD_of_Cons_Orgs_Comments_on_2016_EPA_Proposal_Utah_Haze.xlsx\"\n",
      "Can't handle this attachment: attachment; filename=\"Ex_60_to_TSD_of_Cons_Orgs_Comments_on_2016_EPA_Proposal_Utah_Haze.xls\"\n",
      "Can't handle this attachment: attachment; filename=\"Ex_65_to_TSD_of_Cons_Orgs_Comments_on_2016_EPA_Proposal_Utah_Haze.xlsx\"\n",
      "Can't handle this attachment: attachment; filename=\"Ex_67_to_TSD_of_Cons_Orgs_Comments_on_2016_EPA_Proposal_Utah_Haze.xlsx\"\n",
      "Can't handle this attachment: attachment; filename=\"Ex_68_to_TSD_of_Cons_Orgs_Comments_on_2016_EPA_Proposal_Utah_Haze.xlsx\"\n",
<<<<<<< Updated upstream
      "Can't handle this attachment: attachment; filename=\"160314_RH_SIP_EPA-$08-215-0463.doc\"\n",
      "Can't handle this attachment: attachment; filename=\"Andover_NOx_control_costs,_October_22,_2015+dls.xlsx\"\n",
      "Can't handle this attachment: attachment; filename=\"Carbon_2000_-_9_2015_CAMD.xlsx\"\n",
      "Can't handle this attachment: attachment; filename=\"Hunter_#2_Modified_DB_PC_w_FGD+FF_PM_speciation.xlsx\"\n",
      "Can't handle this attachment: attachment; filename=\"Hunter_#1_Modified_DB_PC_w_FGD+FF_PM_speciation.xlsx\"\n",
      "Can't handle this attachment: attachment; filename=\"Hunter_3_daily_2006_-_2007.xlsx\"\n",
      "Can't handle this attachment: attachment; filename=\"Hunter_#3_Modified_DB_PC_w_FGD+FF_PM_speciation.xlsx\"\n",
      "Can't handle this attachment: attachment; filename=\"Hunter_coal_receipts_2012_-_2015.xlsx\"\n",
      "Can't handle this attachment: attachment; filename=\"Hunter_2000_-_2015_CAMD.xlsx\"\n",
      "Can't handle this attachment: attachment; filename=\"2012_-_2015_EIA_Huntington_fuels_reports.xlsx\"\n",
      "Can't handle this attachment: attachment; filename=\"Huntington_#1_Modified_DB_PC_w_FGD+FF_PM_speciation.xlsx\"\n",
      "Can't handle this attachment: attachment; filename=\"Huntington_#2_Modified_DB_PC_w_FGD+FF_PM_speciation.xlsx\"\n",
      "Can't handle this attachment: attachment; filename=\"Huntington_2012_-_2015_CAMD.xlsx\"\n",
      "Can't handle this attachment: attachment; filename=\"Huntington_2000_-_2014_CAMD.xlsx\"\n",
      "Can't handle this attachment: attachment; filename=\"UT_BART_Alt_results.xlsx\"\n",
      "Skipping EPA-R08-OAR-2015-0463-0130 attachment #2 due to encoding issues\n",
      "Skipping EPA-R08-OAR-2015-0463-0130 attachment #3 due to encoding issues\n",
      "Skipping EPA-R08-OAR-2015-0463-0130 attachment #4 due to encoding issues\n"
=======
      "Can't handle this attachment: attachment; filename=\"Ex_11_to_CO_comments_UDAQ_BART_Analysis.pptx\"\n"
     ]
    },
    {
     "ename": "UnicodeDecodeError",
     "evalue": "'ascii' codec can't decode byte 0xe2 in position 568: ordinal not in range(128)",
     "output_type": "error",
     "traceback": [
      "\u001b[0;31m---------------------------------------------------------------------------\u001b[0m",
      "\u001b[0;31mUnicodeDecodeError\u001b[0m                        Traceback (most recent call last)",
      "\u001b[0;32m<ipython-input-40-c2add7d2927e>\u001b[0m in \u001b[0;36m<module>\u001b[0;34m()\u001b[0m\n\u001b[1;32m     12\u001b[0m             \u001b[0mct\u001b[0m \u001b[0;34m=\u001b[0m \u001b[0mdoc\u001b[0m\u001b[0;34m[\u001b[0m\u001b[0;34m'commentText'\u001b[0m\u001b[0;34m]\u001b[0m\u001b[0;34m\u001b[0m\u001b[0m\n\u001b[1;32m     13\u001b[0m             \u001b[0;32mif\u001b[0m \u001b[0mdoc\u001b[0m\u001b[0;34m[\u001b[0m\u001b[0;34m'attachmentCount'\u001b[0m\u001b[0;34m]\u001b[0m \u001b[0;34m>\u001b[0m \u001b[0;36m0\u001b[0m\u001b[0;34m:\u001b[0m\u001b[0;34m\u001b[0m\u001b[0m\n\u001b[0;32m---> 14\u001b[0;31m                 \u001b[0macom\u001b[0m \u001b[0;34m=\u001b[0m \u001b[0mget_attachment_comments\u001b[0m\u001b[0;34m(\u001b[0m\u001b[0mdoc\u001b[0m\u001b[0;34m[\u001b[0m\u001b[0;34m'documentId'\u001b[0m\u001b[0;34m]\u001b[0m\u001b[0;34m,\u001b[0m \u001b[0mdoc\u001b[0m\u001b[0;34m[\u001b[0m\u001b[0;34m'attachmentCount'\u001b[0m\u001b[0;34m]\u001b[0m\u001b[0;34m)\u001b[0m\u001b[0;34m\u001b[0m\u001b[0m\n\u001b[0m\u001b[1;32m     15\u001b[0m                 \u001b[0mct\u001b[0m \u001b[0;34m+=\u001b[0m \u001b[0;34m' '\u001b[0m \u001b[0;34m+\u001b[0m \u001b[0macom\u001b[0m\u001b[0;34m\u001b[0m\u001b[0m\n\u001b[1;32m     16\u001b[0m             \u001b[0mcorpus\u001b[0m\u001b[0;34m[\u001b[0m\u001b[0mparentDocumentId\u001b[0m\u001b[0;34m]\u001b[0m\u001b[0;34m[\u001b[0m\u001b[0mthisDocumentId\u001b[0m\u001b[0;34m]\u001b[0m \u001b[0;34m=\u001b[0m \u001b[0mct\u001b[0m\u001b[0;34m\u001b[0m\u001b[0m\n",
      "\u001b[0;32m<ipython-input-36-87f77379b3ac>\u001b[0m in \u001b[0;36mget_attachment_comments\u001b[0;34m(documentId, attachmentCount)\u001b[0m\n\u001b[1;32m     15\u001b[0m                 \u001b[0mcomment\u001b[0m \u001b[0;34m+=\u001b[0m \u001b[0mpdf_to_text\u001b[0m\u001b[0;34m(\u001b[0m\u001b[0mrcontent\u001b[0m\u001b[0;34m)\u001b[0m \u001b[0;34m+\u001b[0m \u001b[0;34m' '\u001b[0m\u001b[0;34m\u001b[0m\u001b[0m\n\u001b[1;32m     16\u001b[0m             \u001b[0;32melif\u001b[0m \u001b[0mfile_type\u001b[0m \u001b[0;34m==\u001b[0m \u001b[0;34m'.docx'\u001b[0m\u001b[0;34m:\u001b[0m\u001b[0;34m\u001b[0m\u001b[0m\n\u001b[0;32m---> 17\u001b[0;31m                 \u001b[0mcomment\u001b[0m \u001b[0;34m+=\u001b[0m \u001b[0mdocx_to_text\u001b[0m\u001b[0;34m(\u001b[0m\u001b[0mrcontent\u001b[0m\u001b[0;34m)\u001b[0m \u001b[0;34m+\u001b[0m \u001b[0;34m' '\u001b[0m\u001b[0;34m\u001b[0m\u001b[0m\n\u001b[0m\u001b[1;32m     18\u001b[0m             \u001b[0;32melse\u001b[0m\u001b[0;34m:\u001b[0m\u001b[0;34m\u001b[0m\u001b[0m\n\u001b[1;32m     19\u001b[0m                 \u001b[0;32mprint\u001b[0m\u001b[0;34m(\u001b[0m\u001b[0;34m\"Can't handle this attachment: \"\u001b[0m \u001b[0;34m+\u001b[0m \u001b[0mcontent_disposition\u001b[0m\u001b[0;34m)\u001b[0m\u001b[0;34m\u001b[0m\u001b[0m\n",
      "\u001b[0;31mUnicodeDecodeError\u001b[0m: 'ascii' codec can't decode byte 0xe2 in position 568: ordinal not in range(128)"
>>>>>>> Stashed changes
     ]
    }
   ],
   "source": [
    "uri_template = 'https://api.data.gov/regulations/v3/documents?api_key={}&s={}&rpp={}&po={}&dct={}'\n",
    "nresults = 1000\n",
    "while results_per_page == nresults:\n",
    "    uri = uri_template.format(api_key, keywords, results_per_page, page_offset, doc_type)\n",
    "    print uri\n",
    "    r = requests.get(uri)\n",
    "    time.sleep(.25)\n",
    "    search_result = json.loads(r.content)\n",
    "    for doc in search_result['documents']:\n",
    "        thisDocumentId = doc['documentId']\n",
    "        if not(corpus[parentDocumentId].has_key(thisDocumentId)):\n",
    "            ct = doc['commentText']\n",
    "            if doc['attachmentCount'] > 0:\n",
    "                acom = get_attachment_comments(doc['documentId'], doc['attachmentCount'])\n",
    "                ct += ' ' + acom\n",
    "            corpus[parentDocumentId][thisDocumentId] = ct\n",
    "    page_offset += 1\n",
    "    nresults = len(search_result['documents'])"
   ]
  },
  {
   "cell_type": "code",
<<<<<<< Updated upstream
   "execution_count": 86,
   "metadata": {
    "collapsed": false
   },
   "outputs": [
    {
     "data": {
      "text/plain": [
       "151"
      ]
     },
     "execution_count": 86,
     "metadata": {},
     "output_type": "execute_result"
    }
   ],
   "source": [
    "len(corpus[corpus.keys()[0]])"
   ]
  },
  {
   "cell_type": "code",
   "execution_count": 88,
=======
   "execution_count": 36,
>>>>>>> Stashed changes
   "metadata": {
    "collapsed": true
   },
   "outputs": [],
   "source": [
<<<<<<< Updated upstream
    "pickle.dump(corpus, open('corpus.pkl', 'wb'))"
=======
    "# TODO: save to s3"
   ]
  },
  {
   "cell_type": "code",
   "execution_count": 42,
   "metadata": {
    "collapsed": false
   },
   "outputs": [
    {
     "data": {
      "text/plain": [
       "['EPA\\xe2\\x80\\x93R08\\xe2\\x80\\x93OAR\\xe2\\x80\\x932015\\xe2\\x80\\x930463']"
      ]
     },
     "execution_count": 42,
     "metadata": {},
     "output_type": "execute_result"
    }
   ],
   "source": [
    "corpus.keys()"
   ]
  },
  {
   "cell_type": "code",
   "execution_count": 43,
   "metadata": {
    "collapsed": false
   },
   "outputs": [
    {
     "data": {
      "text/plain": [
       "23"
      ]
     },
     "execution_count": 43,
     "metadata": {},
     "output_type": "execute_result"
    }
   ],
   "source": [
    "len(corpus['EPA\\xe2\\x80\\x93R08\\xe2\\x80\\x93OAR\\xe2\\x80\\x932015\\xe2\\x80\\x930463'].keys())"
   ]
  },
  {
   "cell_type": "code",
   "execution_count": 44,
   "metadata": {
    "collapsed": false
   },
   "outputs": [
    {
     "data": {
      "text/plain": [
       "[u'EPA-R08-OAR-2015-0463-0169',\n",
       " u'EPA-R08-OAR-2015-0463-0161',\n",
       " u'EPA-R08-OAR-2015-0463-0160',\n",
       " u'EPA-R08-OAR-2015-0463-0163',\n",
       " u'EPA-R08-OAR-2015-0463-0162',\n",
       " u'EPA-R08-OAR-2015-0463-0165',\n",
       " u'EPA-R08-OAR-2015-0463-0166',\n",
       " u'EPA-R08-OAR-2015-0463-0157',\n",
       " u'EPA-R08-OAR-2015-0463-0155',\n",
       " u'EPA-R08-OAR-2015-0463-0178',\n",
       " u'EPA-R08-OAR-2015-0463-0179',\n",
       " u'EPA-R08-OAR-2015-0463-0158',\n",
       " u'EPA-R08-OAR-2015-0463-0159',\n",
       " u'EPA-R08-OAR-2015-0463-0172',\n",
       " u'EPA-R08-OAR-2015-0463-0173',\n",
       " u'EPA-R08-OAR-2015-0463-0170',\n",
       " u'EPA-R08-OAR-2015-0463-0171',\n",
       " u'EPA-R08-OAR-2015-0463-0176',\n",
       " u'EPA-R08-OAR-2015-0463-0177',\n",
       " u'EPA-R08-OAR-2015-0463-0174',\n",
       " u'EPA-R08-OAR-2015-0463-0175',\n",
       " u'EPA-R08-OAR-2015-0463-0181',\n",
       " u'EPA-R08-OAR-2015-0463-0180']"
      ]
     },
     "execution_count": 44,
     "metadata": {},
     "output_type": "execute_result"
    }
   ],
   "source": [
    "corpus['EPA\\xe2\\x80\\x93R08\\xe2\\x80\\x93OAR\\xe2\\x80\\x932015\\xe2\\x80\\x930463'].keys()"
   ]
  },
  {
   "cell_type": "code",
   "execution_count": 45,
   "metadata": {
    "collapsed": false
   },
   "outputs": [],
   "source": [
    "one_comment = corpus[parentDocumentId]['EPA-R08-OAR-2015-0463-0177']"
   ]
  },
  {
   "cell_type": "code",
   "execution_count": 46,
   "metadata": {
    "collapsed": false
   },
   "outputs": [
    {
     "data": {
      "text/plain": [
       "u\"See Attached United States Environmental Protection Agency \\n1200 Pennsylvania Avenue NW \\nWashington, DC 20460 \\n\\nRE: Docket ID No. EPA-R08-OAR-2015-0463 Approval, Disapproval and Promulgation of Air Quality Implementation \\nPlans; Partial Approval and Partial Disapproval of Air Quality Implementation Plans and Federal Implementation \\nPlan; Utah; Revisions to Regional Haze State Implementation Plan; \\n\\nDear EPA Administrator: \\n\\nAs a resident of Utah, and a consumer of electricity produced by PacifiCorp's Hunter and Huntington Power Plants, I \\nappreciate the opportunity to comment on EPA's consideration of accepting the State of Utah's State Implementation Plan \\n(SIP) for the reduction of regional haze. It is my understanding the EPA is considering two options for the proposed SIP: to \\naccept the SIP as submitted or to accept part of the SIP and reject part of the SIP and implement its own Federal \\nImplementation Plan (FIP). I understand that if part of the SIP is rejected and a FIP is used to address that part of the plan \\nrejected, additional expensive pollution controls will be required to be installed at the Hunter and Huntington Power Plants. \\nI have read that these controls could cost up to 700 million dollars to construct and operate. Finally, I have read that \\ninstalling these expensive controls will not appreciably further reduce sources of regional haze beyond the levels of \\nreduction anticipated from the steps PacifiCorp has already implemented. Further, I understand the state believes its plans \\nwill be more effective that the EPA's plan in reducing regional haze. \\n\\nI live and recreate in the areas of Utah where the regional haze rules are meant to improve air quality. My family and I \\nenjoy the great vistas we often experience in the National Parks and rural areas of Utah. I am aware there are many sources \\nof regional haze including upwind off-shore sources (China), western forest fires, emissions related to transportation, \\nmanufacturing, and yes, power generation. \\n\\nI also enjoy paying some of the lowest rates in the nation for the electricity my family consumes. The rates are low because \\n80 percent of that electricity is generated by burning coal. Low electrical rates, in part, allows my family to enjoy a standard \\nof living that includes visiting and recreating in the parks, monuments, and wild areas of Utah. It makes little sense to me \\nthat the EPA would feel the need to force a FIP on the state that would require PacifiCorp to spend $700 million dollars on \\nemission controls that would imperceptibly reduce regional haze and be less effective than the state plan. The cost of those \\ncontrols will be passed on to us, the rate payers, resulting in not only higher utility rates but in increased costs of local goods \\nand services. \\n\\nPlease keep my electrical rates low and allow me to decide where to spend my hard earned money by accepting Utah's SIP \\nin its entirety. Do not implement a FIP that requires expensive emission controls that will do little to reduce regional haze. \\n\\nThank you for allowing me to submit these comments and ask that you give them serious consideration when deciding on \\nyour path forward on this matter. \\n\\nYours truly,\\n\\n^ Q\\n\\nrn\\n\\n\\u2022^\\n\\n^N^ \\n\\n \\n\\nco\\n\\n^\\n\\n..\\n\\n\\x0c \""
      ]
     },
     "execution_count": 46,
     "metadata": {},
     "output_type": "execute_result"
    }
   ],
   "source": [
    "one_comment"
   ]
  },
  {
   "cell_type": "code",
   "execution_count": 48,
   "metadata": {
    "collapsed": true
   },
   "outputs": [],
   "source": [
    "import re\n"
   ]
  },
  {
   "cell_type": "code",
   "execution_count": 49,
   "metadata": {
    "collapsed": false,
    "scrolled": true
   },
   "outputs": [
    {
     "data": {
      "text/plain": [
       "u\"See Attached United States Environmental Protection Agency  1200 Pennsylvania Avenue NW  Washington, DC 20460   RE: Docket ID No. EPA-R08-OAR-2015-0463 Approval, Disapproval and Promulgation of Air Quality Implementation  Plans; Partial Approval and Partial Disapproval of Air Quality Implementation Plans and Federal Implementation  Plan; Utah; Revisions to Regional Haze State Implementation Plan;   Dear EPA Administrator:   As a resident of Utah, and a consumer of electricity produced by PacifiCorp's Hunter and Huntington Power Plants, I  appreciate the opportunity to comment on EPA's consideration of accepting the State of Utah's State Implementation Plan  (SIP) for the reduction of regional haze. It is my understanding the EPA is considering two options for the proposed SIP: to  accept the SIP as submitted or to accept part of the SIP and reject part of the SIP and implement its own Federal  Implementation Plan (FIP). I understand that if part of the SIP is rejected and a FIP is used to address that part of the plan  rejected, additional expensive pollution controls will be required to be installed at the Hunter and Huntington Power Plants.  I have read that these controls could cost up to 700 million dollars to construct and operate. Finally, I have read that  installing these expensive controls will not appreciably further reduce sources of regional haze beyond the levels of  reduction anticipated from the steps PacifiCorp has already implemented. Further, I understand the state believes its plans  will be more effective that the EPA's plan in reducing regional haze.   I live and recreate in the areas of Utah where the regional haze rules are meant to improve air quality. My family and I  enjoy the great vistas we often experience in the National Parks and rural areas of Utah. I am aware there are many sources  of regional haze including upwind off-shore sources (China), western forest fires, emissions related to transportation,  manufacturing, and yes, power generation.   I also enjoy paying some of the lowest rates in the nation for the electricity my family consumes. The rates are low because  80 percent of that electricity is generated by burning coal. Low electrical rates, in part, allows my family to enjoy a standard  of living that includes visiting and recreating in the parks, monuments, and wild areas of Utah. It makes little sense to me  that the EPA would feel the need to force a FIP on the state that would require PacifiCorp to spend $700 million dollars on  emission controls that would imperceptibly reduce regional haze and be less effective than the state plan. The cost of those  controls will be passed on to us, the rate payers, resulting in not only higher utility rates but in increased costs of local goods  and services.   Please keep my electrical rates low and allow me to decide where to spend my hard earned money by accepting Utah's SIP  in its entirety. Do not implement a FIP that requires expensive emission controls that will do little to reduce regional haze.   Thank you for allowing me to submit these comments and ask that you give them serious consideration when deciding on  your path forward on this matter.   Yours truly,  ^ Q  rn  \\u2022^  ^N^      co  ^  ..    \""
      ]
     },
     "execution_count": 49,
     "metadata": {},
     "output_type": "execute_result"
    }
   ],
   "source": [
    "re.sub('\\s', ' ', one_comment)"
>>>>>>> Stashed changes
   ]
  },
  {
   "cell_type": "code",
   "execution_count": 92,
   "metadata": {
    "collapsed": false
   },
   "outputs": [],
   "source": []
  },
  {
   "cell_type": "code",
   "execution_count": 42,
   "metadata": {
    "collapsed": true
   },
   "outputs": [],
   "source": [
<<<<<<< Updated upstream
    "comments = corpus[corpus.keys()[0]].values()"
   ]
  },
  {
   "cell_type": "code",
   "execution_count": 93,
   "metadata": {
    "collapsed": false
   },
   "outputs": [
    {
     "data": {
      "text/plain": [
       "u'Comments by Edith H. OBrien (Deedee) - January 26, 2016\\nd-dobrien@comcast.net\\n\\n\\nThank you for being here today to hear what the people of Utah have to say about the air we breathe, the countryside we love, and the effects that coal-burning power plants have on both. \\n\\nHere on the Wasatch Front we live with bouts of polluted air due to concentration of the population, our vehicle exhausts,  local industries and oil refineries, and the mountains that trap the dirty air during inversions. When we escape these conditions by traveling south to red rock country and our national parks, we expect and count on clean air, blue sky, and the views of breathtakingly beautiful scenery. \\n\\nIn August of 2015 we brought our two grandchildren, visiting from Virginia, to enjoy camping and the sights in Southern Utah that we so love. As we drove over Boulder Mountain between Torrey and Boulder, Utah on Route 12, we excitedly stopped at the first viewpoint overlooking Capitol Reef National Park. This was their first sighting of red rock country. We pulled out our cameras, but the vistas were disappointing. Haze dimmed it all. I was totally surprised, as I had not ever experienced it this way. My heart sank. If the land we love the most is choked in bad air, what is our escape?\\n\\nPlease consider the importance of clear views and clean air to breathe to the physical and mental health of everyone everywhere, and in this particular instance, in and around our national parks. Please require the Hunter and Huntington coal-burning power plants to install modern pollution controls to cut emissions of nitrogen-oxide that spoil our air.\\n\\nThank you.\\nEdith OBrien\\n\\nI attended the meeting in SLC on Monday, January 26th planning to speak, but could not stay more than 2 hours.\\n'"
      ]
     },
     "execution_count": 93,
     "metadata": {},
     "output_type": "execute_result"
    }
   ],
   "source": [
    "comments[0]"
=======
    "import pickle\n",
    "pickle.dump( corpus, open( str(parentDocumentId) + '.pkl', \"wb\" ) )"
>>>>>>> Stashed changes
   ]
  },
  {
   "cell_type": "code",
   "execution_count": null,
   "metadata": {
    "collapsed": true
   },
   "outputs": [],
   "source": []
  }
 ],
 "metadata": {
  "kernelspec": {
   "display_name": "Python 2",
   "language": "python",
   "name": "python2"
  },
  "language_info": {
   "codemirror_mode": {
    "name": "ipython",
    "version": 2
   },
   "file_extension": ".py",
   "mimetype": "text/x-python",
   "name": "python",
   "nbconvert_exporter": "python",
   "pygments_lexer": "ipython2",
   "version": "2.7.12"
  }
 },
 "nbformat": 4,
 "nbformat_minor": 1
}
